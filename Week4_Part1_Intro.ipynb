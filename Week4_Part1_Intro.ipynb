{
    "cells": [
        {
            "cell_type": "markdown",
            "metadata": {
                "collapsed": true
            },
            "source": "# Coursera Capstone Project: Week 4"
        },
        {
            "cell_type": "markdown",
            "metadata": {},
            "source": "\n### Project Title: \"The New Silicon Valley: Why Miami is the New Hotspot for Tech Innovation.\""
        },
        {
            "cell_type": "markdown",
            "metadata": {},
            "source": "### Part 1: Introduction/Business Problem. A description of the problem and a discussion of the background."
        },
        {
            "cell_type": "markdown",
            "metadata": {},
            "source": "The results of the COVID-19 pandemic have put a major strain on businesses due to government policies, paired with a rising income tax rate, and high cost-of-living. As a result many businesses are looking for alternative places to setup, or move to. This year we are seeing that many major key players in the tech industry are looking for alternative locations and local governments who support entrepreneurs and businesses to support the goals of the company. <p>\n\nThis is a major shift again in history (like the gold rush in the mid 1800's, and Silicon Valley in the early 1900s to today) now seeking less government restriction elsewhere for booming technical innovation, lower crime rate, and better living conditions. Which could also bring in more people and money to the cities. <p>\n\nFor the Capstone Project I will be investigating why tech businesses are choosing to move to Miami versus staying in Silicon Valley, San Francisco Bay, CA. and Why places like Miami, FL and Austin, TX are so attractive? <p>"
        },
        {
            "cell_type": "code",
            "execution_count": null,
            "metadata": {},
            "outputs": [],
            "source": ""
        }
    ],
    "metadata": {
        "kernelspec": {
            "display_name": "Python 3.8",
            "language": "python",
            "name": "python3"
        },
        "language_info": {
            "codemirror_mode": {
                "name": "ipython",
                "version": 3
            },
            "file_extension": ".py",
            "mimetype": "text/x-python",
            "name": "python",
            "nbconvert_exporter": "python",
            "pygments_lexer": "ipython3",
            "version": "3.8.10"
        }
    },
    "nbformat": 4,
    "nbformat_minor": 1
}